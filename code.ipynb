{
 "cells": [
  {
   "cell_type": "code",
   "execution_count": 4,
   "metadata": {},
   "outputs": [],
   "source": [
    "import numpy as np\n"
   ]
  },
  {
   "cell_type": "code",
   "execution_count": 5,
   "metadata": {},
   "outputs": [],
   "source": [
    "#Calculating the inverse of a 2x2 matrix without using numpy"
   ]
  },
  {
   "cell_type": "code",
   "execution_count": 6,
   "metadata": {},
   "outputs": [],
   "source": [
    "def get_M_Inv(m):\n",
    "    if len(m) == 2:\n",
    "        determinant = m[0][0]*m[1][1]-m[0][1]*m[1][0]\n",
    "    \n",
    "    #special case for 2x2 matrix:\n",
    "    if len(m) == 2:\n",
    "        return [[m[1][1]/determinant, -1*m[0][1]/determinant],\n",
    "                [-1*m[1][0]/determinant, m[0][0]/determinant]]\n"
   ]
  },
  {
   "cell_type": "code",
   "execution_count": 7,
   "metadata": {},
   "outputs": [
    {
     "data": {
      "text/plain": [
       "[[0.0, -0.3333333333333333], [0.08333333333333333, 0.1388888888888889]]"
      ]
     },
     "execution_count": 7,
     "metadata": {},
     "output_type": "execute_result"
    }
   ],
   "source": [
    "m2 = np.array([[5,12],[-3,0]])\n",
    "\n",
    "get_M_Inv(m2)"
   ]
  },
  {
   "cell_type": "code",
   "execution_count": 8,
   "metadata": {},
   "outputs": [],
   "source": [
    "#to check"
   ]
  },
  {
   "cell_type": "code",
   "execution_count": 9,
   "metadata": {},
   "outputs": [
    {
     "data": {
      "text/plain": [
       "array([[ 0.        , -0.33333333],\n",
       "       [ 0.08333333,  0.13888889]])"
      ]
     },
     "execution_count": 9,
     "metadata": {},
     "output_type": "execute_result"
    }
   ],
   "source": [
    "np.linalg.inv(m2)"
   ]
  },
  {
   "cell_type": "code",
   "execution_count": 10,
   "metadata": {},
   "outputs": [],
   "source": [
    "#Code a function to calculate the determinant of 2x2 matrix"
   ]
  },
  {
   "cell_type": "code",
   "execution_count": 11,
   "metadata": {},
   "outputs": [],
   "source": [
    "def get_M_Det(m):\n",
    "    #for 2x2 matrix\n",
    "    if len(m) == 2:\n",
    "        return m[0][0]*m[1][1]-m[0][1]*m[1][0]\n"
   ]
  },
  {
   "cell_type": "code",
   "execution_count": 12,
   "metadata": {},
   "outputs": [],
   "source": [
    "m2 = np.array([[5,12],[-3,0]])"
   ]
  },
  {
   "cell_type": "code",
   "execution_count": 13,
   "metadata": {},
   "outputs": [
    {
     "data": {
      "text/plain": [
       "36"
      ]
     },
     "execution_count": 13,
     "metadata": {},
     "output_type": "execute_result"
    }
   ],
   "source": [
    "get_M_Det(m2)"
   ]
  },
  {
   "cell_type": "code",
   "execution_count": 14,
   "metadata": {},
   "outputs": [],
   "source": [
    "#to check"
   ]
  },
  {
   "cell_type": "code",
   "execution_count": 15,
   "metadata": {},
   "outputs": [
    {
     "data": {
      "text/plain": [
       "36.0"
      ]
     },
     "execution_count": 15,
     "metadata": {},
     "output_type": "execute_result"
    }
   ],
   "source": [
    "np.linalg.det(m2)"
   ]
  },
  {
   "cell_type": "code",
   "execution_count": 20,
   "metadata": {},
   "outputs": [],
   "source": [
    "#Code a function that interchange the diagonal elements of a 2x2 matrix and\n",
    "#         inverse the sign of the off diagonal elements\n"
   ]
  },
  {
   "cell_type": "code",
   "execution_count": 21,
   "metadata": {},
   "outputs": [],
   "source": [
    "m22 = np.array([[5,12],[-3,0]])"
   ]
  },
  {
   "cell_type": "code",
   "execution_count": 22,
   "metadata": {},
   "outputs": [],
   "source": [
    "def inter_Change(m):\n",
    "    m[0,0] , m[1,1] = m[1,1] , m[0,0]\n",
    "    \n",
    "    m[0,1] = -m[0,1]\n",
    "    \n",
    "    m[1,0] = -m[1,0]\n",
    "    \n",
    "    return m"
   ]
  },
  {
   "cell_type": "code",
   "execution_count": 23,
   "metadata": {},
   "outputs": [],
   "source": [
    "#Code a function to compute the inverse of 2x2 matrix based on the two previous\n",
    "#        functions if it exists"
   ]
  },
  {
   "cell_type": "code",
   "execution_count": 24,
   "metadata": {},
   "outputs": [],
   "source": [
    " def get_M_Inv2(m):\n",
    "\n",
    "    return inter_Change(m)/get_M_Det(m)"
   ]
  },
  {
   "cell_type": "code",
   "execution_count": 25,
   "metadata": {},
   "outputs": [
    {
     "data": {
      "text/plain": [
       "array([[ 0.        , -0.33333333],\n",
       "       [ 0.08333333,  0.13888889]])"
      ]
     },
     "execution_count": 25,
     "metadata": {},
     "output_type": "execute_result"
    }
   ],
   "source": [
    "m22 = np.array([[5,12],[-3,0]])\n",
    "get_M_Inv2(m22)"
   ]
  },
  {
   "cell_type": "code",
   "execution_count": 26,
   "metadata": {},
   "outputs": [],
   "source": [
    "#to check"
   ]
  },
  {
   "cell_type": "code",
   "execution_count": 27,
   "metadata": {},
   "outputs": [
    {
     "data": {
      "text/plain": [
       "array([[ 0.        , -0.33333333],\n",
       "       [ 0.08333333,  0.13888889]])"
      ]
     },
     "execution_count": 27,
     "metadata": {},
     "output_type": "execute_result"
    }
   ],
   "source": [
    "m22 = np.array([[5,12],[-3,0]])\n",
    "np.linalg.inv(m22)"
   ]
  },
  {
   "cell_type": "code",
   "execution_count": 45,
   "metadata": {},
   "outputs": [],
   "source": [
    "#Coding a function that generates the matrix of minors of a 3x3 matrix"
   ]
  },
  {
   "cell_type": "code",
   "execution_count": 59,
   "metadata": {},
   "outputs": [],
   "source": [
    "def matrixOfMinors(m):\n",
    "    \n",
    "    mat_of_minors = np.array([[0,0,0],[0,0,0],[0,0,0]])\n",
    "    \n",
    "   \n",
    "    x = m[1][1] * m[2][2]\n",
    "    y = m[1][2] * m[2][1]\n",
    "    \n",
    "    mat_of_minors[0][0] = x - y\n",
    "    \n",
    "    x = m[1][0] * m[2][2]\n",
    "    y = m[2][0] * m[1][2]\n",
    "    \n",
    "    mat_of_minors[0][1] = x - y\n",
    "    \n",
    "    x = m[1][0] * m[2][1]\n",
    "    y = m[1][1] * m[2][0]\n",
    "    \n",
    "    mat_of_minors[0][2] = x - y\n",
    "    \n",
    "    x = m[0][1] * m[2][2]\n",
    "    y = m[0][2] * m[2][1]\n",
    "    \n",
    "    mat_of_minors[1][0] = x - y\n",
    "    \n",
    "    x = m[0][0] * m[2][2]\n",
    "    y = m[0][2] * m[2][0]\n",
    "    \n",
    "    mat_of_minors[1][1] = x - y\n",
    "    \n",
    "    x = m[0][0] * m[2][1]\n",
    "    y = m[0][1] * m[2][0]\n",
    "    \n",
    "    mat_of_minors[1][2] = x - y\n",
    "    \n",
    "    x = m[0][1] * m[1][2]\n",
    "    y = m[0][2] * m[1][1]\n",
    "    \n",
    "    mat_of_minors[2][0] = x - y\n",
    "    \n",
    "    x = m[0][0] * m[1][2]\n",
    "    y = m[0][2] * m[1][0]\n",
    "    \n",
    "    mat_of_minors[2][1] = x - y\n",
    "    \n",
    "    x = m[1][1] * m[0][0]\n",
    "    y = m[1][0] * m[0][1]\n",
    "    \n",
    "    mat_of_minors[2][2] = x - y\n",
    "    \n",
    "    return mat_of_minors\n",
    "    \n",
    "    "
   ]
  },
  {
   "cell_type": "code",
   "execution_count": 60,
   "metadata": {},
   "outputs": [
    {
     "data": {
      "text/plain": [
       "array([[  2,   2,   2],\n",
       "       [ -2,   3,   3],\n",
       "       [  0, -10,   0]])"
      ]
     },
     "execution_count": 60,
     "metadata": {},
     "output_type": "execute_result"
    }
   ],
   "source": [
    "m333 = np.array([[3,0,2],[2,0,-2],[0,1,1]])\n",
    "\n",
    "matrixOfMinors(m333)\n"
   ]
  },
  {
   "cell_type": "code",
   "execution_count": null,
   "metadata": {},
   "outputs": [],
   "source": [
    "#Coding a function that generates the matrix of cofactors of a 3x3 matrix"
   ]
  },
  {
   "cell_type": "code",
   "execution_count": 63,
   "metadata": {},
   "outputs": [],
   "source": [
    "def matrixOfcofactors(m):\n",
    "    m = matrixOfMinors(m333)\n",
    "    \n",
    "    m[0][1] *= -1\n",
    "    m[1][0] *= -1\n",
    "    m[1][2] *= -1\n",
    "    m[2][1] *= -1\n",
    "    \n",
    "    return m"
   ]
  },
  {
   "cell_type": "code",
   "execution_count": 64,
   "metadata": {},
   "outputs": [
    {
     "data": {
      "text/plain": [
       "array([[ 2, -2,  2],\n",
       "       [ 2,  3, -3],\n",
       "       [ 0, 10,  0]])"
      ]
     },
     "execution_count": 64,
     "metadata": {},
     "output_type": "execute_result"
    }
   ],
   "source": [
    "matrixOfcofactors(m333)"
   ]
  },
  {
   "cell_type": "code",
   "execution_count": null,
   "metadata": {},
   "outputs": [],
   "source": [
    "#Coding a function that generates the transpose of a 3x3 matrix"
   ]
  },
  {
   "cell_type": "code",
   "execution_count": 65,
   "metadata": {},
   "outputs": [],
   "source": [
    "def Adjoint(m):\n",
    "    m = matrixOfcofactors(m)\n",
    "    \n",
    "    m[0][1] , m[1][0] = m[1][0],  m[0][1]\n",
    "    \n",
    "    m[0][2] , m[2][0] = m[2][0],  m[0][2]\n",
    "    \n",
    "    m[1][2] , m[2][1] = m[2][1],  m[1][2]\n",
    "    \n",
    "    return m"
   ]
  },
  {
   "cell_type": "code",
   "execution_count": 66,
   "metadata": {},
   "outputs": [
    {
     "data": {
      "text/plain": [
       "array([[ 2,  2,  0],\n",
       "       [-2,  3, 10],\n",
       "       [ 2, -3,  0]])"
      ]
     },
     "execution_count": 66,
     "metadata": {},
     "output_type": "execute_result"
    }
   ],
   "source": [
    "Adjoint(m333)"
   ]
  },
  {
   "cell_type": "code",
   "execution_count": 71,
   "metadata": {},
   "outputs": [],
   "source": [
    "def Determinant(m):\n",
    "    m2 = matrixOfcofactors(m)\n",
    "    \n",
    "    det = m[0][0] * m2[0][0] + m[0][1] * m2[0][1] + m[0][2] * m2[0][2] \n",
    "    \n",
    "    return det"
   ]
  },
  {
   "cell_type": "code",
   "execution_count": 72,
   "metadata": {},
   "outputs": [
    {
     "data": {
      "text/plain": [
       "10"
      ]
     },
     "execution_count": 72,
     "metadata": {},
     "output_type": "execute_result"
    }
   ],
   "source": [
    "Determinant(m333)"
   ]
  },
  {
   "cell_type": "code",
   "execution_count": null,
   "metadata": {},
   "outputs": [],
   "source": [
    "#Coding a function that checks if a 3x3 matrix is invertible"
   ]
  },
  {
   "cell_type": "code",
   "execution_count": 77,
   "metadata": {},
   "outputs": [],
   "source": [
    "def invertible(m):\n",
    "    det = Determinant(m)\n",
    "    if det != 0:\n",
    "        return True\n",
    "    else: return False"
   ]
  },
  {
   "cell_type": "code",
   "execution_count": 78,
   "metadata": {},
   "outputs": [
    {
     "data": {
      "text/plain": [
       "True"
      ]
     },
     "execution_count": 78,
     "metadata": {},
     "output_type": "execute_result"
    }
   ],
   "source": [
    "invertible(m333)"
   ]
  },
  {
   "cell_type": "code",
   "execution_count": 73,
   "metadata": {},
   "outputs": [],
   "source": [
    "def get_inv(m):\n",
    "    \n",
    "    if !(invertible(m)):\n",
    "        break\n",
    "    return Adjoint(m)/Determinant(m)"
   ]
  },
  {
   "cell_type": "code",
   "execution_count": 89,
   "metadata": {},
   "outputs": [
    {
     "data": {
      "text/plain": [
       "array([[ 0.2,  0.2,  0. ],\n",
       "       [-0.2,  0.3,  1. ],\n",
       "       [ 0.2, -0.3,  0. ]])"
      ]
     },
     "execution_count": 89,
     "metadata": {},
     "output_type": "execute_result"
    }
   ],
   "source": [
    "m333 = np.array([[3,0,2],[2,0,-2],[0,1,1]])\n",
    "get_inv(m333)"
   ]
  },
  {
   "cell_type": "code",
   "execution_count": 90,
   "metadata": {},
   "outputs": [],
   "source": [
    "#to check "
   ]
  },
  {
   "cell_type": "code",
   "execution_count": 91,
   "metadata": {},
   "outputs": [
    {
     "data": {
      "text/plain": [
       "array([[ 0.2,  0.2,  0. ],\n",
       "       [-0.2,  0.3,  1. ],\n",
       "       [ 0.2, -0.3, -0. ]])"
      ]
     },
     "execution_count": 91,
     "metadata": {},
     "output_type": "execute_result"
    }
   ],
   "source": [
    "np.linalg.inv(m333)"
   ]
  },
  {
   "cell_type": "code",
   "execution_count": null,
   "metadata": {},
   "outputs": [],
   "source": []
  }
 ],
 "metadata": {
  "kernelspec": {
   "display_name": "Python 3",
   "language": "python",
   "name": "python3"
  },
  "language_info": {
   "codemirror_mode": {
    "name": "ipython",
    "version": 3
   },
   "file_extension": ".py",
   "mimetype": "text/x-python",
   "name": "python",
   "nbconvert_exporter": "python",
   "pygments_lexer": "ipython3",
   "version": "3.8.5"
  }
 },
 "nbformat": 4,
 "nbformat_minor": 4
}
